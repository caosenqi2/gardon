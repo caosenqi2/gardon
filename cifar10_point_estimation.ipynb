{
 "cells": [
  {
   "cell_type": "code",
   "execution_count": 1,
   "metadata": {},
   "outputs": [
    {
     "name": "stdout",
     "output_type": "stream",
     "text": [
      "\n",
      "WARNING: The TensorFlow contrib module will not be included in TensorFlow 2.0.\n",
      "For more information, please see:\n",
      "  * https://github.com/tensorflow/community/blob/master/rfcs/20180907-contrib-sunset.md\n",
      "  * https://github.com/tensorflow/addons\n",
      "If you depend on functionality not listed there, please file an issue.\n",
      "\n"
     ]
    }
   ],
   "source": [
    "import matplotlib.pyplot as plt\n",
    "import numpy as np\n",
    "import tensorflow as tf\n",
    "import time\n",
    "import pandas as pd\n",
    "from sklearn.metrics import average_precision_score\n",
    "from sklearn.metrics import roc_auc_score\n",
    "plt.style.use('ggplot')\n",
    "%matplotlib inline"
   ]
  },
  {
   "cell_type": "code",
   "execution_count": 2,
   "metadata": {},
   "outputs": [
    {
     "name": "stdout",
     "output_type": "stream",
     "text": [
      "WARNING:tensorflow:From /Users/senqicao/anaconda3/lib/python3.7/site-packages/tensorflow/python/ops/control_flow_ops.py:423: colocate_with (from tensorflow.python.framework.ops) is deprecated and will be removed in a future version.\n",
      "Instructions for updating:\n",
      "Colocations handled automatically by placer.\n"
     ]
    },
    {
     "name": "stderr",
     "output_type": "stream",
     "text": [
      "WARNING: Logging before flag parsing goes to stderr.\n",
      "W0430 16:44:39.667495 140737270424512 deprecation.py:323] From /Users/senqicao/anaconda3/lib/python3.7/site-packages/tensorflow/python/ops/control_flow_ops.py:423: colocate_with (from tensorflow.python.framework.ops) is deprecated and will be removed in a future version.\n",
      "Instructions for updating:\n",
      "Colocations handled automatically by placer.\n"
     ]
    },
    {
     "name": "stdout",
     "output_type": "stream",
     "text": [
      "WARNING:tensorflow:From /Users/senqicao/anaconda3/lib/python3.7/site-packages/tensorflow/python/ops/image_ops_impl.py:1241: div (from tensorflow.python.ops.math_ops) is deprecated and will be removed in a future version.\n",
      "Instructions for updating:\n",
      "Deprecated in favor of operator or tf.math.divide.\n"
     ]
    },
    {
     "name": "stderr",
     "output_type": "stream",
     "text": [
      "W0430 16:44:39.778403 140737270424512 deprecation.py:323] From /Users/senqicao/anaconda3/lib/python3.7/site-packages/tensorflow/python/ops/image_ops_impl.py:1241: div (from tensorflow.python.ops.math_ops) is deprecated and will be removed in a future version.\n",
      "Instructions for updating:\n",
      "Deprecated in favor of operator or tf.math.divide.\n"
     ]
    }
   ],
   "source": [
    "import cifar10_input\n",
    "sess = tf.InteractiveSession()\n",
    "images, labels = sess.run(cifar10_input.distorted_inputs(batch_size=100))"
   ]
  },
  {
   "cell_type": "code",
   "execution_count": 4,
   "metadata": {},
   "outputs": [
    {
     "name": "stderr",
     "output_type": "stream",
     "text": [
      "W0430 16:17:17.331994 140737270424512 image.py:656] Clipping input data to the valid range for imshow with RGB data ([0..1] for floats or [0..255] for integers).\n"
     ]
    },
    {
     "data": {
      "image/png": "[encoded data removed]",
      "text/plain": [
       "<Figure size 432x288 with 1 Axes>"
      ]
     },
     "metadata": {
      "needs_background": "light"
     },
     "output_type": "display_data"
    }
   ],
   "source": [
    "im = np.random.normal(0,1,[32*32*3])\n",
    "im = np.reshape(np.abs(im) ,[32,32,3])\n",
    "plt.imshow(im)\n",
    "plt.show()\n",
    "safe_images = np.reshape(np.random.normal(0,1,[32*32*3*9200]),[9200,32,32,3])"
   ]
  },
  {
   "cell_type": "code",
   "execution_count": null,
   "metadata": {},
   "outputs": [
    {
     "name": "stdout",
     "output_type": "stream",
     "text": [
      "time: 0 760.77006316185 test accuracy 0.1\n",
      "maxp_OOD: 0.0 0.22459526 0.0019460786\n",
      "maxp_inD: 0.0 0.22407123 0.0035607226\n",
      "ent_OOD: 2.1529334 0.0021607277 ent_in: 2.156771 0.004302733\n",
      "AUPR_p: 40.71\n",
      "AUROC_p: 44.18\n",
      "AUPR_entropy: 32.89\n",
      "AUROC_entropy: 20.97\n",
      "############################################\n",
      "time: 100 3032.4441270828247 test accuracy 0.12990002\n",
      "maxp_OOD: 0.0 0.9675659 0.004923903\n",
      "maxp_inD: 0.005 0.29747906 0.18202777\n",
      "ent_OOD: 0.18437599 0.022223776 ent_in: 1.9404465 0.44351938\n",
      "AUPR_p: 29.3\n",
      "AUROC_p: 1.11\n",
      "AUPR_entropy: 29.32\n",
      "AUROC_entropy: 1.2\n",
      "############################################\n",
      "time: 200 6848.807234048843 test accuracy 0.2669\n",
      "maxp_OOD: 0.0 0.48540363 0.011853227\n",
      "maxp_inD: 0.0 0.30055854 0.13327065\n",
      "ent_OOD: 1.3392406 0.03261111 ent_in: 1.9040114 0.32005683\n",
      "AUPR_p: 30.98\n",
      "AUROC_p: 9.7\n",
      "AUPR_entropy: 30.3\n",
      "AUROC_entropy: 6.39\n",
      "############################################\n",
      "time: 300 22831.086257219315 test accuracy 0.2871\n",
      "maxp_OOD: 0.0 0.68731415 0.019679548\n",
      "maxp_inD: 0.0 0.32262427 0.15578648\n",
      "ent_OOD: 1.0353088 0.050557766 ent_in: 1.8458478 0.3736177\n",
      "AUPR_p: 29.92\n",
      "AUROC_p: 4.46\n",
      "AUPR_entropy: 30.04\n",
      "AUROC_entropy: 5.13\n",
      "############################################\n"
     ]
    }
   ],
   "source": [
    "(x_train, y_train), (x_test, y_test) = tf.keras.datasets.cifar10.load_data()\n",
    "y_train = np.reshape(y_train,[50000,])\n",
    "y_test = np.reshape(y_test,[10000,])\n",
    "\n",
    "M = 100\n",
    "D=4*4*512\n",
    "h1=1024\n",
    "D2=10\n",
    "\n",
    "def max_pool_2x2(x):\n",
    "    return tf.nn.max_pool(x, ksize=[1, 2, 2, 1], strides=[1, 2, 2, 1], padding='SAME')\n",
    "\n",
    "tf.reset_default_graph()\n",
    "# variables\n",
    "X = tf.placeholder(tf.float32, shape = [None, 32, 32, 3])\n",
    "Y = tf.placeholder(tf.float32, [None,])\n",
    "b = tf.placeholder(tf.bool,shape=(),name='b')\n",
    "learning_rate = tf.placeholder(tf.float32,shape=(),name='learning_rate')\n",
    "\n",
    "w_conv1 = tf.get_variable('w_conv1', [3,3,3,128], initializer = tf.contrib.layers.xavier_initializer())\n",
    "w_conv2 = tf.get_variable('w_conv2', [3,3,128,128], initializer = tf.contrib.layers.xavier_initializer())\n",
    "w_conv3 = tf.get_variable('w_conv3', [3,3,128,256], initializer = tf.contrib.layers.xavier_initializer())\n",
    "w_conv4 = tf.get_variable('w_conv4', [3,3,256,256], initializer = tf.contrib.layers.xavier_initializer())\n",
    "w_conv5 = tf.get_variable('w_conv5', [3,3,256,512], initializer = tf.contrib.layers.xavier_initializer())\n",
    "w_conv6 = tf.get_variable('w_conv6', [3,3,512,512], initializer = tf.contrib.layers.xavier_initializer())\n",
    "\n",
    "w0 = tf.get_variable('w_fc1', [4*4*512, 1024], initializer = tf.contrib.layers.xavier_initializer())\n",
    "b0 = tf.get_variable('b_fc1', [1,1024], initializer = tf.contrib.layers.xavier_initializer())\n",
    "w1 = tf.get_variable('w_fc2', [1024, 10], initializer = tf.contrib.layers.xavier_initializer())\n",
    "b1 = tf.get_variable('b_fc2', [1,10], initializer = tf.contrib.layers.xavier_initializer())\n",
    "\n",
    "# network\n",
    "#b=True\n",
    "con1 = tf.nn.conv2d(X, w_conv1, strides=[1, 1, 1, 1], padding='SAME')\n",
    "h_conv1 = tf.layers.batch_normalization(tf.nn.relu(con1), training=b)\n",
    "\n",
    "con2 = tf.nn.conv2d(h_conv1, w_conv2, strides=[1, 1, 1, 1], padding='SAME')\n",
    "h_conv2 = tf.layers.batch_normalization(tf.nn.relu(con2), training=b)\n",
    "h_pool2 = max_pool_2x2(h_conv2)\n",
    "\n",
    "con3 = tf.nn.conv2d(h_pool2, w_conv3, strides=[1, 1, 1, 1], padding='SAME')\n",
    "h_conv3 = tf.layers.batch_normalization(tf.nn.relu(con3), training=b)\n",
    "\n",
    "con4 = tf.nn.conv2d(h_conv3, w_conv4, strides=[1, 1, 1, 1], padding='SAME')\n",
    "h_conv4 = tf.layers.batch_normalization(tf.nn.relu(con4), training=b)\n",
    "h_pool4 = max_pool_2x2(h_conv4)\n",
    "\n",
    "con5 = tf.nn.conv2d(h_pool4, w_conv5, strides=[1, 1, 1, 1], padding='SAME')\n",
    "h_conv5 = tf.layers.batch_normalization(tf.nn.relu(con5), training=b)\n",
    "\n",
    "con6 = tf.nn.conv2d(h_conv5, w_conv6, strides=[1, 1, 1, 1], padding='SAME')\n",
    "h_conv6 = tf.layers.batch_normalization(tf.nn.relu(con6), training=b)\n",
    "h_pool6 = max_pool_2x2(h_conv6)\n",
    "\n",
    "h_pool_flat = tf.layers.flatten(h_pool6)\n",
    "\n",
    "h = tf.nn.relu(tf.matmul(h_pool_flat, w0) + b0)\n",
    "logits = tf.matmul(h, w1) + b1\n",
    "output = tf.nn.softmax(logits)#batch*10\n",
    "\n",
    "#evaluation\n",
    "probs = tf.reduce_sum(output*Y,1)#batch*1\n",
    "p=tf.reduce_mean(probs,0)#积分\n",
    "cross_ent = tf.reduce_mean(tf.nn.sparse_softmax_cross_entropy_with_logits(logits = logits,labels = tf.cast(Y, tf.int64)))\n",
    "regularization = 1e-4*(tf.reduce_sum(tf.square(w0))+tf.reduce_sum(tf.square(b0))+tf.reduce_sum(tf.square(w1))+tf.reduce_sum(tf.square(b1)))\n",
    "loss = cross_ent + regularization\n",
    "max_p = tf.reduce_max(output,1)\n",
    "ent = tf.reduce_sum(-tf.log(output+1e-11)*output,1)\n",
    "\n",
    "#correct_pred = tf.equal(tf.argmax(output,1), tf.argmax(Y,1))\n",
    "#tmp = tf.cast(tf.argmax(output,1), tf.float32)\n",
    "correct_pred = tf.equal(tf.argmax(output,1), tf.cast(Y, tf.int64))\n",
    "accuracy = tf.reduce_mean(tf.cast(correct_pred, tf.float32))\n",
    "\n",
    "# training\n",
    "update_ops = tf.get_collection(tf.GraphKeys.UPDATE_OPS)\n",
    "with tf.control_dependencies(update_ops):\n",
    "    train_step = tf.train.AdamOptimizer(learning_rate).minimize(loss)\n",
    "saver = tf.train.Saver(max_to_keep = 200)\n",
    "\n",
    "with tf.Session() as sess:\n",
    "    start_time = time.time()\n",
    "    sess.run(tf.global_variables_initializer())\n",
    "    model_id=0\n",
    "    #save_path = saver.restore(sess, \"./baseline_point_estimation/classification_mnist60/model.ckpt\")\n",
    "    for i in range(90000):\n",
    "        \n",
    "        seed = np.random.randint(0,50000,100)\n",
    "        x_batch = x_train[seed]\n",
    "        y_batch = y_train[seed]\n",
    "        x_batch = sess.run(tf.cast(x_batch, tf.float32))\n",
    "        #x_batch = sess.run(tf.random_crop(x_batch, [100, 32, 32, 3]))\n",
    "        x_batch = sess.run(tf.image.random_flip_left_right(x_batch))\n",
    "        x_batch = sess.run(tf.image.random_brightness(x_batch, max_delta=0.5))\n",
    "        x_batch = sess.run(tf.image.random_contrast(x_batch, lower=0.2, upper=1.8))\n",
    "        x_batch = sess.run(tf.image.per_image_standardization(x_batch))\n",
    "        \n",
    "        if i%100==0:\n",
    "            maxp_OOD = []\n",
    "            ent_OOD = []\n",
    "            test_accuracy = []\n",
    "            maxp_in = []\n",
    "            ent_in = []                       \n",
    "            for j in range(0,100):\n",
    "                imgs_in = x_test[j*100:(j+1)*100]\n",
    "                labels_in = y_test[j*100:(j+1)*100]\n",
    "                #imgs_in = sess.run(tf.image.resize_image_with_crop_or_pad(imgs_in, 32, 32))\n",
    "                imgs_in = sess.run(tf.image.per_image_standardization(imgs_in))\n",
    "            \n",
    "                acc = sess.run(accuracy,{X:np.reshape(imgs_in,[100,32,32,3]),Y:labels_in,b:False})\n",
    "                maxp_in1 = sess.run(max_p,{X:np.reshape(imgs_in,[100,32,32,3]),b:False})\n",
    "                ent_in1 = sess.run(ent,{X:np.reshape(imgs_in,[100,32,32,3]),b:False})\n",
    "                test_accuracy.append(acc)\n",
    "                maxp_in.extend(maxp_in1)\n",
    "                ent_in.extend(ent_in1)\n",
    "                \n",
    "            test_accuracy = np.array(test_accuracy)\n",
    "            maxp_in = np.array(maxp_in)\n",
    "            ent_in = np.array(ent_in)\n",
    "            \n",
    "            safe_images = np.reshape(np.random.normal(0,1,[32*32*3*9200]),[9200,32,32,3])\n",
    "            for k in range(0,92):\n",
    "                imgs_OOD = safe_images[k*100:(k+1)*100]\n",
    "                maxp_OOD1 = sess.run(max_p,{X:np.reshape(imgs_OOD,[100,32,32,3]),b:False})\n",
    "                ent_OOD1 = sess.run(ent,{X:np.reshape(imgs_OOD,[100,32,32,3]),b:False})\n",
    "                maxp_OOD.extend(maxp_OOD1)\n",
    "                ent_OOD.extend(ent_OOD1)\n",
    "            maxp_OOD = np.array(maxp_OOD)\n",
    "            ent_OOD = np.array(ent_OOD)\n",
    "            \n",
    "\n",
    "            #validation_error = sess.run(accuracy, {X:np.reshape(validation_x,[1000,28,28,1]), Y:validation_y,b:False})\n",
    "            test_error = np.mean(np.array(test_accuracy))\n",
    "            print (\"time:\",i, time.time() - start_time, \"test accuracy\", test_error)\n",
    "            print(\"maxp_OOD:\",np.mean(maxp_OOD>0.99),np.mean(maxp_OOD),np.std(maxp_OOD))\n",
    "            print(\"maxp_inD:\",np.mean(maxp_in>0.99),np.mean(maxp_in),np.std(maxp_in))\n",
    "            print(\"ent_OOD:\",np.mean(ent_OOD),np.std(ent_OOD), \"ent_in:\", np.mean(ent_in),np.std(ent_in))\n",
    "            \n",
    "            safe, risky  = -np.reshape(maxp_in,[10000,1]), -np.reshape(maxp_OOD,[9200,1])\n",
    "            labels = np.zeros((safe.shape[0] + risky.shape[0]), dtype=np.int32)\n",
    "            labels[safe.shape[0]:] += 1\n",
    "            examples = np.squeeze(np.vstack((safe, risky)))\n",
    "            print('AUPR_p:', round(100*average_precision_score(labels, examples), 2))\n",
    "            print('AUROC_p:', round(100*roc_auc_score(labels, examples), 2))\n",
    "\n",
    "            safe, risky = np.reshape(ent_in,[10000,1]), np.reshape(ent_OOD,[9200,1])\n",
    "            labels = np.zeros((safe.shape[0] + risky.shape[0]), dtype=np.int32)\n",
    "            labels[safe.shape[0]:] += 1\n",
    "            examples = np.squeeze(np.vstack((safe, risky)))\n",
    "            print('AUPR_entropy:', round(100*average_precision_score(labels, examples), 2))\n",
    "            print('AUROC_entropy:', round(100*roc_auc_score(labels, examples), 2))\n",
    "            print(\"############################################\")\n",
    "            \n",
    "        if i < 5000:\n",
    "            a = 0.01\n",
    "        elif i < 10000:\n",
    "            a = 0.005\n",
    "        elif i < 20000:\n",
    "            a = 0.001\n",
    "        elif i < 50000:\n",
    "            a = 0.0005\n",
    "        elif i < 80000:\n",
    "            a = 0.0001\n",
    "        else:\n",
    "            a = 0.00005\n",
    "        sess.run(train_step,{X: x_batch, Y: y_batch,b:True,learning_rate:a})\n",
    "        \n",
    "        if i%500==0:\n",
    "            save_path = saver.save(sess, \"./cifar10_point_estimation/classification_mnist%s/model.ckpt\" % model_id)\n",
    "            model_id+=1"
   ]
  },
  {
   "cell_type": "code",
   "execution_count": 92,
   "metadata": {},
   "outputs": [
    {
     "data": {
      "text/plain": [
       "100.0"
      ]
     },
     "execution_count": 92,
     "metadata": {},
     "output_type": "execute_result"
    }
   ],
   "source": [
    "50000*100/50000"
   ]
  },
  {
   "cell_type": "code",
   "execution_count": 77,
   "metadata": {},
   "outputs": [
    {
     "data": {
      "text/plain": [
       "(100, 32, 32, 3)"
      ]
     },
     "execution_count": 77,
     "metadata": {},
     "output_type": "execute_result"
    }
   ],
   "source": [
    "x_batch.shape"
   ]
  },
  {
   "cell_type": "code",
   "execution_count": 47,
   "metadata": {},
   "outputs": [
    {
     "data": {
      "image/png": "[encoded data removed]",
      "text/plain": [
       "<Figure size 432x288 with 1 Axes>"
      ]
     },
     "metadata": {
      "needs_background": "light"
     },
     "output_type": "display_data"
    }
   ],
   "source": [
    "seed = np.random.randint(0,50000,100)\n",
    "x_batch = x_train[seed]\n",
    "x_batch = x_batch[0]\n",
    "plt.imshow(x_batch)\n",
    "plt.show()"
   ]
  },
  {
   "cell_type": "code",
   "execution_count": 80,
   "metadata": {},
   "outputs": [
    {
     "name": "stderr",
     "output_type": "stream",
     "text": [
      "/Users/senqicao/anaconda3/lib/python3.7/site-packages/tensorflow/python/client/session.py:1702: UserWarning: An interactive session is already active. This can cause out-of-memory errors in some cases. You must explicitly call `InteractiveSession.close()` to release resources held by the other session(s).\n",
      "  warnings.warn('An interactive session is already active. This can '\n"
     ]
    }
   ],
   "source": [
    "sess = tf.InteractiveSession()\n",
    "x_batch = sess.run(tf.cast(x_batch, tf.float32))\n",
    "#x_batch = sess.run(tf.random_crop(x_batch, [32, 32, 3]))\n",
    "x_batch = sess.run(tf.image.random_flip_left_right(x_batch))\n",
    "x_batch = sess.run(tf.image.random_brightness(x_batch, max_delta=0.5))\n",
    "x_batch = sess.run(tf.image.random_contrast(x_batch, lower=0.2, upper=1.8))\n",
    "x_batch = sess.run(tf.image.per_image_standardization(x_batch))"
   ]
  },
  {
   "cell_type": "code",
   "execution_count": 62,
   "metadata": {},
   "outputs": [
    {
     "name": "stderr",
     "output_type": "stream",
     "text": [
      "W0430 19:19:41.415526 140737270424512 image.py:656] Clipping input data to the valid range for imshow with RGB data ([0..1] for floats or [0..255] for integers).\n"
     ]
    },
    {
     "data": {
      "image/png": "[encoded data removed]",
      "text/plain": [
       "<Figure size 432x288 with 1 Axes>"
      ]
     },
     "metadata": {
      "needs_background": "light"
     },
     "output_type": "display_data"
    }
   ],
   "source": [
    "#x_batch = sess.run(tf.image.random_contrast(x_batch, lower=0.2, upper=1.8))\n",
    "plt.imshow(x_batch)\n",
    "plt.show()"
   ]
  },
  {
   "cell_type": "code",
   "execution_count": 81,
   "metadata": {},
   "outputs": [
    {
     "data": {
      "text/plain": [
       "(100, 32, 32, 3)"
      ]
     },
     "execution_count": 81,
     "metadata": {},
     "output_type": "execute_result"
    }
   ],
   "source": [
    "x_batch.shape"
   ]
  },
  {
   "cell_type": "code",
   "execution_count": null,
   "metadata": {},
   "outputs": [],
   "source": []
  }
 ],
 "metadata": {
  "kernelspec": {
   "display_name": "Python 3",
   "language": "python",
   "name": "python3"
  },
  "language_info": {
   "codemirror_mode": {
    "name": "ipython",
    "version": 3
   },
   "file_extension": ".py",
   "mimetype": "text/x-python",
   "name": "python",
   "nbconvert_exporter": "python",
   "pygments_lexer": "ipython3",
   "version": "3.7.1"
  }
 },
 "nbformat": 4,
 "nbformat_minor": 2
}
